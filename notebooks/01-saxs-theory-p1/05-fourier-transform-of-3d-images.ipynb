{
 "cells": [
  {
   "cell_type": "markdown",
   "metadata": {},
   "source": [
    "# 5. Fourier Transform of 3D Images\n",
    "* inspired by [DENSS - Thomas D. Grant](https://www.tdgrant.com/denss/)\n",
    "* see also this author's paper [Ab initio electron density determination directly from solution scattering data](https://www.nature.com/articles/nmeth.4581)"
   ]
  },
  {
   "cell_type": "code",
   "execution_count": 1,
   "metadata": {},
   "outputs": [],
   "source": [
    "import numpy as np\n",
    "import matplotlib.pyplot as plt\n",
    "from mpl_toolkits.mplot3d import Axes3D\n",
    "%matplotlib widget"
   ]
  },
  {
   "cell_type": "code",
   "execution_count": 2,
   "metadata": {},
   "outputs": [],
   "source": [
    "N = 32\n",
    "x = y = z = np.arange(N)\n",
    "xx, yy, zz = np.meshgrid(x, y, z)"
   ]
  },
  {
   "cell_type": "code",
   "execution_count": 3,
   "metadata": {},
   "outputs": [],
   "source": [
    "def plot_a_sphere_with_ft(center, r):\n",
    "    import matplotlib.cm as cm\n",
    "    from learnsaxs import draw_voxles_as_dots\n",
    "    cx, cy, cz = center\n",
    "    shape = (xx - cx)**2 + (yy - cy)**2 + (zz - cz)**2 < r**2\n",
    "    canvas = np.zeros((N,N,N))\n",
    "    canvas[shape] = 1\n",
    "    fig, (ax1, ax2) = plt.subplots(ncols=2, figsize=(8,4), subplot_kw={\"projection\":\"3d\"})\n",
    "    ax1.set_title(\"Real Space Image\")\n",
    "    ax2.set_title(\"Reciprocal Space Image abs(F)\")\n",
    "    draw_voxles_as_dots(ax1, canvas)\n",
    "    ft_image = np.abs(np.fft.fftn(canvas))\n",
    "    draw_voxles_as_dots(ax2, ft_image)\n",
    "    ax1.set_xlim(ax2.get_xlim())\n",
    "    ax1.set_ylim(ax2.get_ylim())\n",
    "    ax1.set_zlim(ax2.get_zlim())"
   ]
  },
  {
   "cell_type": "code",
   "execution_count": 4,
   "metadata": {},
   "outputs": [
    {
     "data": {
      "application/vnd.jupyter.widget-view+json": {
       "model_id": "a4d2aa6174d8450c9f07007acadda2af",
       "version_major": 2,
       "version_minor": 0
      },
      "text/plain": [
       "Canvas(toolbar=Toolbar(toolitems=[('Home', 'Reset original view', 'home', 'home'), ('Back', 'Back to previous …"
      ]
     },
     "metadata": {},
     "output_type": "display_data"
    }
   ],
   "source": [
    "plot_a_sphere_with_ft((16, 16, 16), 4)"
   ]
  },
  {
   "cell_type": "code",
   "execution_count": 5,
   "metadata": {},
   "outputs": [],
   "source": [
    "def plot_a_sphere_with_ft_and_ift(center, r):\n",
    "    import matplotlib.cm as cm\n",
    "    from learnsaxs import draw_voxles_as_dots\n",
    "    cx, cy, cz = center\n",
    "    shape = (xx - cx)**2 + (yy - cy)**2 + (zz - cz)**2 < r**2\n",
    "    canvas = np.zeros((N,N,N))\n",
    "    canvas[shape] = 1\n",
    "    fig, (ax1, ax2, ax3) = plt.subplots(ncols=3, figsize=(12,4), subplot_kw={\"projection\":\"3d\"})\n",
    "    ax1.set_title(\"Real Space Image\")\n",
    "    ax2.set_title(\"Reciprocal Space Image abs(F)\")\n",
    "    ax3.set_title(\"Restored Real Space Image\")\n",
    "    draw_voxles_as_dots(ax1, canvas)\n",
    "    F = np.fft.fftn(canvas)\n",
    "    ft_image = np.abs(F)\n",
    "    draw_voxles_as_dots(ax2, ft_image)\n",
    "    ret_image = np.fft.ifftn(F).real\n",
    "    ret_image_ = np.round(ret_image, decimals=7)    # avoid slight differences to affect the color map\n",
    "    draw_voxles_as_dots(ax3, ret_image_)\n",
    "    for ax in [ax1, ax3]:\n",
    "        ax.set_xlim(ax2.get_xlim())\n",
    "        ax.set_ylim(ax2.get_ylim())\n",
    "        ax.set_zlim(ax2.get_zlim())"
   ]
  },
  {
   "cell_type": "code",
   "execution_count": 6,
   "metadata": {},
   "outputs": [
    {
     "data": {
      "application/vnd.jupyter.widget-view+json": {
       "model_id": "fbb4ef47e840420b9668b8feec2f06f8",
       "version_major": 2,
       "version_minor": 0
      },
      "text/plain": [
       "Canvas(toolbar=Toolbar(toolitems=[('Home', 'Reset original view', 'home', 'home'), ('Back', 'Back to previous …"
      ]
     },
     "metadata": {},
     "output_type": "display_data"
    }
   ],
   "source": [
    "plot_a_sphere_with_ft_and_ift((16, 16, 16), 4)"
   ]
  },
  {
   "cell_type": "code",
   "execution_count": 7,
   "metadata": {},
   "outputs": [],
   "source": [
    "def debug_plot_a_sphere_with_ft_and_ift(center, r):\n",
    "    cx, cy, cz = center\n",
    "    shape = (xx - cx)**2 + (yy - cy)**2 + (zz - cz)**2 < r**2\n",
    "    canvas = np.zeros((N,N,N))\n",
    "    canvas[shape] = 1\n",
    "    fig, (ax1, ax2) = plt.subplots(ncols=2, figsize=(8,4))\n",
    "    F = np.fft.fftn(canvas)\n",
    "    ft_image = np.abs(F)\n",
    "    ret_image = np.fft.ifftn(F).real\n",
    "    print(\"max(ret_image)=\",  np.max(ret_image))\n",
    "    print(\"min(ret_image)=\",  np.min(ret_image[ret_image > 0]))    \n",
    "    ax1.hist(canvas.flatten())\n",
    "    ax2.hist(ret_image.flatten())"
   ]
  },
  {
   "cell_type": "code",
   "execution_count": 8,
   "metadata": {},
   "outputs": [
    {
     "data": {
      "application/vnd.jupyter.widget-view+json": {
       "model_id": "c265a9dc1651464b968be6df9a0646b8",
       "version_major": 2,
       "version_minor": 0
      },
      "text/plain": [
       "Canvas(toolbar=Toolbar(toolitems=[('Home', 'Reset original view', 'home', 'home'), ('Back', 'Back to previous …"
      ]
     },
     "metadata": {},
     "output_type": "display_data"
    },
    {
     "name": "stdout",
     "output_type": "stream",
     "text": [
      "max(ret_image)= 1.0\n",
      "min(ret_image)= 1.4465731197425178e-21\n"
     ]
    }
   ],
   "source": [
    "debug_plot_a_sphere_with_ft_and_ift((16, 16, 16), 4)"
   ]
  },
  {
   "cell_type": "code",
   "execution_count": null,
   "metadata": {},
   "outputs": [],
   "source": []
  }
 ],
 "metadata": {
  "kernelspec": {
   "display_name": "Python 3",
   "language": "python",
   "name": "python3"
  },
  "language_info": {
   "codemirror_mode": {
    "name": "ipython",
    "version": 3
   },
   "file_extension": ".py",
   "mimetype": "text/x-python",
   "name": "python",
   "nbconvert_exporter": "python",
   "pygments_lexer": "ipython3",
   "version": "3.9.7"
  }
 },
 "nbformat": 4,
 "nbformat_minor": 4
}
