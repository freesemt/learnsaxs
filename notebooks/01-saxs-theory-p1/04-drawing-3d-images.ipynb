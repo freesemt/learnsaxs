{
 "cells": [
  {
   "cell_type": "markdown",
   "metadata": {},
   "source": [
    "# 4. Drawing Sphere as 3D Image\n",
    "## 4.1 using matplotlib only\n",
    "* you can draw 3D images with ax.voxels() method."
   ]
  },
  {
   "cell_type": "code",
   "execution_count": 1,
   "metadata": {},
   "outputs": [],
   "source": [
    "import numpy as np\n",
    "import matplotlib.pyplot as plt\n",
    "from mpl_toolkits.mplot3d import Axes3D\n",
    "%matplotlib widget"
   ]
  },
  {
   "cell_type": "code",
   "execution_count": 2,
   "metadata": {},
   "outputs": [
    {
     "data": {
      "application/vnd.jupyter.widget-view+json": {
       "model_id": "6c70b9a6420a4acd90c7caf9f6be8066",
       "version_major": 2,
       "version_minor": 0
      },
      "text/plain": [
       "Canvas(toolbar=Toolbar(toolitems=[('Home', 'Reset original view', 'home', 'home'), ('Back', 'Back to previous …"
      ]
     },
     "metadata": {},
     "output_type": "display_data"
    }
   ],
   "source": [
    "N = 32\n",
    "canvas = np.ones((N,N,N))\n",
    "fig, ax = plt.subplots(figsize=(4,4), subplot_kw={\"projection\":\"3d\"})\n",
    "ax.voxels(canvas);"
   ]
  },
  {
   "cell_type": "code",
   "execution_count": 3,
   "metadata": {},
   "outputs": [
    {
     "data": {
      "text/plain": [
       "32768"
      ]
     },
     "execution_count": 3,
     "metadata": {},
     "output_type": "execute_result"
    }
   ],
   "source": [
    "N**3"
   ]
  },
  {
   "cell_type": "code",
   "execution_count": 4,
   "metadata": {},
   "outputs": [],
   "source": [
    "def plot_a_shape(shape):\n",
    "    canvas = np.zeros((N,N,N))\n",
    "    canvas[shape] = 1\n",
    "    fig, ax = plt.subplots(figsize=(4,4), subplot_kw={\"projection\":\"3d\"})\n",
    "    ax.voxels(canvas)"
   ]
  },
  {
   "cell_type": "code",
   "execution_count": 5,
   "metadata": {},
   "outputs": [
    {
     "data": {
      "application/vnd.jupyter.widget-view+json": {
       "model_id": "74d4d7538d0944c19fc511319c99535f",
       "version_major": 2,
       "version_minor": 0
      },
      "text/plain": [
       "Canvas(toolbar=Toolbar(toolitems=[('Home', 'Reset original view', 'home', 'home'), ('Back', 'Back to previous …"
      ]
     },
     "metadata": {},
     "output_type": "display_data"
    }
   ],
   "source": [
    "x = y = z = np.arange(N)\n",
    "xx, yy, zz = np.meshgrid(x, y, z)\n",
    "plot_a_shape((xx - 16)**2 + (yy - 16)**2 + (zz - 16)**2 < 4**2)"
   ]
  },
  {
   "cell_type": "markdown",
   "metadata": {},
   "source": [
    "## 4.2 How to draw faster\n",
    "* However, using ax.voxels() can be problematic because it is slow.\n",
    "* to draw faster, use draw_voxles_as_dots() function from \"learnsaxs\" package instead.\n",
    "* as its name suggests, draw_voxles_as_dots() draws data as dots with ax.scatter() method, which results in faster rendering."
   ]
  },
  {
   "cell_type": "code",
   "execution_count": 6,
   "metadata": {},
   "outputs": [],
   "source": [
    "def plot_a_shape_as_dots(shape):\n",
    "    from learnsaxs import draw_voxles_as_dots\n",
    "    canvas = np.zeros((N,N,N))\n",
    "    canvas[shape] = 1\n",
    "    fig, ax = plt.subplots(figsize=(4,4), subplot_kw={\"projection\":\"3d\"})\n",
    "    draw_voxles_as_dots(ax, canvas)    # faster than ax.voxels(...)\n",
    "    ax.set_xlim(0, N)\n",
    "    ax.set_ylim(0, N)\n",
    "    ax.set_zlim(0, N)"
   ]
  },
  {
   "cell_type": "code",
   "execution_count": 7,
   "metadata": {},
   "outputs": [
    {
     "data": {
      "application/vnd.jupyter.widget-view+json": {
       "model_id": "8452b87550984df0b782eb1165570a3b",
       "version_major": 2,
       "version_minor": 0
      },
      "text/plain": [
       "Canvas(toolbar=Toolbar(toolitems=[('Home', 'Reset original view', 'home', 'home'), ('Back', 'Back to previous …"
      ]
     },
     "metadata": {},
     "output_type": "display_data"
    }
   ],
   "source": [
    "plot_a_shape_as_dots((xx - 16)**2 + (yy - 16)**2 + (zz - 16)**2 < 4**2)"
   ]
  },
  {
   "cell_type": "markdown",
   "metadata": {},
   "source": [
    "## 4.3 References\n",
    "* If you don't care the speed, more intensive use of ax.voxels can be found in [Displaying 3D images in Python](https://terbium.io/2017/12/matplotlib-3d/)"
   ]
  },
  {
   "cell_type": "code",
   "execution_count": null,
   "metadata": {},
   "outputs": [],
   "source": []
  }
 ],
 "metadata": {
  "kernelspec": {
   "display_name": "Python 3",
   "language": "python",
   "name": "python3"
  },
  "language_info": {
   "codemirror_mode": {
    "name": "ipython",
    "version": 3
   },
   "file_extension": ".py",
   "mimetype": "text/x-python",
   "name": "python",
   "nbconvert_exporter": "python",
   "pygments_lexer": "ipython3",
   "version": "3.9.7"
  }
 },
 "nbformat": 4,
 "nbformat_minor": 4
}
