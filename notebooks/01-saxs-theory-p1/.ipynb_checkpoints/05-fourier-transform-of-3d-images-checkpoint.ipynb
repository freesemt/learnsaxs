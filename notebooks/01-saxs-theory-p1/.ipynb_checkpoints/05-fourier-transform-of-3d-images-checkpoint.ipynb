{
 "cells": [
  {
   "cell_type": "markdown",
   "metadata": {},
   "source": [
    "# Fourier Transform of 3D Images\n",
    "* inspired by [DENSS - Thomas D. Grant](https://www.tdgrant.com/denss/)\n",
    "* [Ab initio electron density determination directly from solution scattering data](https://www.nature.com/articles/nmeth.4581)\n",
    "* [Displaying 3D images in Python](https://terbium.io/2017/12/matplotlib-3d/)"
   ]
  },
  {
   "cell_type": "code",
   "execution_count": 1,
   "metadata": {},
   "outputs": [],
   "source": [
    "import numpy as np\n",
    "import matplotlib.pyplot as plt\n",
    "from mpl_toolkits.mplot3d import Axes3D\n",
    "%matplotlib widget"
   ]
  },
  {
   "cell_type": "code",
   "execution_count": 2,
   "metadata": {},
   "outputs": [
    {
     "data": {
      "application/vnd.jupyter.widget-view+json": {
       "model_id": "ae2dd3ffe99d4801b00065c66b802d4f",
       "version_major": 2,
       "version_minor": 0
      },
      "text/plain": [
       "Canvas(toolbar=Toolbar(toolitems=[('Home', 'Reset original view', 'home', 'home'), ('Back', 'Back to previous …"
      ]
     },
     "metadata": {},
     "output_type": "display_data"
    }
   ],
   "source": [
    "N = 32\n",
    "canvas = np.ones((N,N,N))\n",
    "fig, ax = plt.subplots(figsize=(4,4), subplot_kw={\"projection\":\"3d\"})\n",
    "ax.voxels(canvas);"
   ]
  },
  {
   "cell_type": "code",
   "execution_count": 3,
   "metadata": {},
   "outputs": [
    {
     "data": {
      "text/plain": [
       "32768"
      ]
     },
     "execution_count": 3,
     "metadata": {},
     "output_type": "execute_result"
    }
   ],
   "source": [
    "N**3"
   ]
  },
  {
   "cell_type": "code",
   "execution_count": 4,
   "metadata": {},
   "outputs": [],
   "source": [
    "def plot_a_shape(shape):\n",
    "    canvas = np.zeros((N,N,N))\n",
    "    canvas[shape] = 1\n",
    "    fig, ax = plt.subplots(figsize=(4,4), subplot_kw={\"projection\":\"3d\"})\n",
    "    ax.voxels(canvas)"
   ]
  },
  {
   "cell_type": "code",
   "execution_count": 5,
   "metadata": {},
   "outputs": [],
   "source": [
    "x = y = z = np.arange(N)\n",
    "xx, yy, zz = np.meshgrid(x, y, z)"
   ]
  },
  {
   "cell_type": "code",
   "execution_count": 7,
   "metadata": {},
   "outputs": [
    {
     "data": {
      "application/vnd.jupyter.widget-view+json": {
       "model_id": "c886ece806a341159ebbdf5c99c995ad",
       "version_major": 2,
       "version_minor": 0
      },
      "text/plain": [
       "Canvas(toolbar=Toolbar(toolitems=[('Home', 'Reset original view', 'home', 'home'), ('Back', 'Back to previous …"
      ]
     },
     "metadata": {},
     "output_type": "display_data"
    }
   ],
   "source": [
    "plot_a_shape((xx - 16)**2 + (yy - 16)**2 + (zz - 16)**2 < 4**2)"
   ]
  },
  {
   "cell_type": "code",
   "execution_count": 8,
   "metadata": {},
   "outputs": [],
   "source": [
    "def plot_a_sphere_with_ft(a, b, c, r):\n",
    "    import matplotlib.cm as cm\n",
    "    from voxel_utils import draw_voxles_as_scatter\n",
    "    shape = (xx - a)**2 + (yy - b)**2 + (zz - c)**2 < r**2\n",
    "    canvas = np.zeros((N,N,N))\n",
    "    canvas[shape] = 1\n",
    "    fig, (ax1, ax2) = plt.subplots(ncols=2, figsize=(8,4), subplot_kw={\"projection\":\"3d\"})\n",
    "    # ax1.voxels(canvas)\n",
    "    draw_voxles_as_scatter(ax1, canvas)\n",
    "    ft_image = np.abs(np.fft.fftn(canvas))\n",
    "    # ax2.voxels(ft_image, cmap=cm.plasma)\n",
    "    draw_voxles_as_scatter(ax2, ft_image)   # this is faster\n",
    "    ax1.set_xlim(ax2.get_xlim())\n",
    "    ax1.set_ylim(ax2.get_ylim())\n",
    "    ax1.set_zlim(ax2.get_zlim())"
   ]
  },
  {
   "cell_type": "code",
   "execution_count": 9,
   "metadata": {},
   "outputs": [
    {
     "data": {
      "application/vnd.jupyter.widget-view+json": {
       "model_id": "76699ba20183456d954c2c5fab7b03ff",
       "version_major": 2,
       "version_minor": 0
      },
      "text/plain": [
       "Canvas(toolbar=Toolbar(toolitems=[('Home', 'Reset original view', 'home', 'home'), ('Back', 'Back to previous …"
      ]
     },
     "metadata": {},
     "output_type": "display_data"
    }
   ],
   "source": [
    "plot_a_sphere_with_ft(16, 16, 16, 4)"
   ]
  },
  {
   "cell_type": "code",
   "execution_count": 14,
   "metadata": {},
   "outputs": [],
   "source": [
    "def plot_a_sphere_with_ft_and_ift(a, b, c, r):\n",
    "    import matplotlib.cm as cm\n",
    "    from voxel_utils import draw_voxles_as_scatter\n",
    "    shape = (xx - a)**2 + (yy - b)**2 + (zz - c)**2 < r**2\n",
    "    canvas = np.zeros((N,N,N))\n",
    "    canvas[shape] = 1\n",
    "    fig, (ax1, ax2, ax3) = plt.subplots(ncols=3, figsize=(12,4), subplot_kw={\"projection\":\"3d\"})\n",
    "    ax1.set_title(\"Real Space Image\")\n",
    "    ax2.set_title(\"Reciprocal Space Image\")\n",
    "    ax3.set_title(\"Restored Real Space Image\")\n",
    "    # ax1.voxels(canvas)\n",
    "    draw_voxles_as_scatter(ax1, canvas)\n",
    "    F = np.fft.fftn(canvas)\n",
    "    ft_image = np.abs(F)\n",
    "    # ax2.voxels(ft_image, cmap=cm.plasma)\n",
    "    draw_voxles_as_scatter(ax2, ft_image)   # this is faster\n",
    "    ret_image = np.fft.ifftn(F).real\n",
    "    ret_image_ = np.round(ret_image, decimals=7)    # avoid slight differences to affect the color map\n",
    "    draw_voxles_as_scatter(ax3, ret_image_)\n",
    "    for ax in [ax1, ax3]:\n",
    "        ax.set_xlim(ax2.get_xlim())\n",
    "        ax.set_ylim(ax2.get_ylim())\n",
    "        ax.set_zlim(ax2.get_zlim())"
   ]
  },
  {
   "cell_type": "code",
   "execution_count": 15,
   "metadata": {},
   "outputs": [
    {
     "data": {
      "application/vnd.jupyter.widget-view+json": {
       "model_id": "20c558325297490ab635cb888487fce9",
       "version_major": 2,
       "version_minor": 0
      },
      "text/plain": [
       "Canvas(toolbar=Toolbar(toolitems=[('Home', 'Reset original view', 'home', 'home'), ('Back', 'Back to previous …"
      ]
     },
     "metadata": {},
     "output_type": "display_data"
    }
   ],
   "source": [
    "plot_a_sphere_with_ft_and_ift(16, 16, 16, 4)"
   ]
  },
  {
   "cell_type": "code",
   "execution_count": 12,
   "metadata": {},
   "outputs": [],
   "source": [
    "def debug_plot_a_sphere_with_ft_and_ift(a, b, c, r):\n",
    "    import matplotlib.cm as cm\n",
    "    from voxel_utils import draw_voxles_as_scatter\n",
    "    shape = (xx - a)**2 + (yy - b)**2 + (zz - c)**2 < r**2\n",
    "    canvas = np.zeros((N,N,N))\n",
    "    canvas[shape] = 1\n",
    "    fig, (ax1, ax2) = plt.subplots(ncols=2, figsize=(8,4))\n",
    "    F = np.fft.fftn(canvas)\n",
    "    ft_image = np.abs(F)\n",
    "    ret_image = np.fft.ifftn(F).real\n",
    "    print(\"max(ret_image)=\",  np.max(ret_image))\n",
    "    print(\"min(ret_image)=\",  np.min(ret_image[ret_image > 0]))    \n",
    "    ax1.hist(canvas.flatten())\n",
    "    ax2.hist(ret_image.flatten())"
   ]
  },
  {
   "cell_type": "code",
   "execution_count": 13,
   "metadata": {},
   "outputs": [
    {
     "data": {
      "application/vnd.jupyter.widget-view+json": {
       "model_id": "01628884d6ab4661a412dbdd796935e2",
       "version_major": 2,
       "version_minor": 0
      },
      "text/plain": [
       "Canvas(toolbar=Toolbar(toolitems=[('Home', 'Reset original view', 'home', 'home'), ('Back', 'Back to previous …"
      ]
     },
     "metadata": {},
     "output_type": "display_data"
    },
    {
     "name": "stdout",
     "output_type": "stream",
     "text": [
      "max(ret_image)= 1.0\n",
      "min(ret_image)= 1.4465731197425178e-21\n"
     ]
    }
   ],
   "source": [
    "debug_plot_a_sphere_with_ft_and_ift(16, 16, 16, 4)"
   ]
  },
  {
   "cell_type": "code",
   "execution_count": null,
   "metadata": {},
   "outputs": [],
   "source": []
  }
 ],
 "metadata": {
  "kernelspec": {
   "display_name": "Python 3",
   "language": "python",
   "name": "python3"
  },
  "language_info": {
   "codemirror_mode": {
    "name": "ipython",
    "version": 3
   },
   "file_extension": ".py",
   "mimetype": "text/x-python",
   "name": "python",
   "nbconvert_exporter": "python",
   "pygments_lexer": "ipython3",
   "version": "3.9.7"
  }
 },
 "nbformat": 4,
 "nbformat_minor": 4
}
